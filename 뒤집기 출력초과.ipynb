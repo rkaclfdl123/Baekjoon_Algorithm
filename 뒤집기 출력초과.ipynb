{
  "nbformat": 4,
  "nbformat_minor": 0,
  "metadata": {
    "colab": {
      "name": "Untitled74.ipynb",
      "provenance": [],
      "collapsed_sections": [],
      "authorship_tag": "ABX9TyOcNnRKmuRnCab366YwMlLN",
      "include_colab_link": true
    },
    "kernelspec": {
      "name": "python3",
      "display_name": "Python 3"
    },
    "language_info": {
      "name": "python"
    }
  },
  "cells": [
    {
      "cell_type": "markdown",
      "metadata": {
        "id": "view-in-github",
        "colab_type": "text"
      },
      "source": [
        "<a href=\"https://colab.research.google.com/github/rkaclfdl123/Baekjoon_Algorithm/blob/master/%EB%92%A4%EC%A7%91%EA%B8%B0%20%EC%B6%9C%EB%A0%A5%EC%B4%88%EA%B3%BC.ipynb\" target=\"_parent\"><img src=\"https://colab.research.google.com/assets/colab-badge.svg\" alt=\"Open In Colab\"/></a>"
      ]
    },
    {
      "cell_type": "markdown",
      "metadata": {
        "id": "TydaWgAF4o8P"
      },
      "source": [
        "string=input()\n",
        "count_zero=0\n",
        "count_one=0\n",
        "for i in range(0,len(string)-1):\n",
        "    print(string[i])\n",
        "    if string[i] !=string[i+1] and string[i]==0:\n",
        "        count_zero+=1\n",
        "    elif string[i] != string[i+1] and string[i]==1:\n",
        "        count_one+=1\n",
        "    else:\n",
        "        print(\"error\")\n",
        "\n",
        "print(min(len(count_zero),len(count_one)))\n",
        "        "
      ]
    },
    {
      "cell_type": "code",
      "metadata": {
        "colab": {
          "base_uri": "https://localhost:8080/"
        },
        "id": "Uu3VolGo6wyS",
        "outputId": "3876abcd-a55b-474d-b8f1-7cd76987707d"
      },
      "source": [
        ""
      ],
      "execution_count": 10,
      "outputs": [
        {
          "name": "stdout",
          "output_type": "stream",
          "text": [
            "0001100\n"
          ]
        }
      ]
    },
    {
      "cell_type": "code",
      "metadata": {
        "colab": {
          "base_uri": "https://localhost:8080/"
        },
        "id": "_2nloQEP6Bix",
        "outputId": "a97ea91c-433a-4828-fbb8-00dd21ffd3ee"
      },
      "source": [
        "string=input()\n",
        "\n",
        "count_zero=0\n",
        "count_one=0\n",
        "\n",
        "for i in range(0,len(string)-1):\n",
        "    if string[i] !=string[i+1] and string[i]==\"0\":\n",
        "        count_zero+=1 \n",
        "    elif string[i] != string[i+1] and string[i]==\"1\":\n",
        "        count_one+=1 \n",
        "    else:\n",
        "        print(\"same\")\n",
        "\n",
        "# if string[-1]==\"0\":\n",
        "#     count_zero+=1\n",
        "# elif string[-1]==\"1\":\n",
        "#     count_one+=1\n",
        "# else:\n",
        "#     print(\"error\")\n",
        "\n",
        "print(min(count_zero,count_one))"
      ],
      "execution_count": 16,
      "outputs": [
        {
          "output_type": "stream",
          "name": "stdout",
          "text": [
            "0\n",
            "same\n",
            "0\n",
            "same\n",
            "0\n",
            "1\n",
            "same\n",
            "1\n",
            "0\n",
            "same\n",
            "Ddd\n",
            "2\n",
            "1\n",
            "1\n"
          ]
        }
      ]
    },
    {
      "cell_type": "code",
      "metadata": {
        "id": "GcI4Y0Fx9juZ"
      },
      "source": [
        ""
      ],
      "execution_count": null,
      "outputs": []
    }
  ]
}