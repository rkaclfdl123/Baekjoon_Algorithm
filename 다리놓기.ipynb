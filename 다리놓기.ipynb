{
  "nbformat": 4,
  "nbformat_minor": 0,
  "metadata": {
    "colab": {
      "name": "다리놓기.ipynb",
      "provenance": [],
      "authorship_tag": "ABX9TyP4QnwpWF/Njf5ETD5JPwah",
      "include_colab_link": true
    },
    "kernelspec": {
      "name": "python3",
      "display_name": "Python 3"
    },
    "language_info": {
      "name": "python"
    }
  },
  "cells": [
    {
      "cell_type": "markdown",
      "metadata": {
        "id": "view-in-github",
        "colab_type": "text"
      },
      "source": [
        "<a href=\"https://colab.research.google.com/github/rkaclfdl123/Baekjoon_Algorithm/blob/master/%EB%8B%A4%EB%A6%AC%EB%86%93%EA%B8%B0.ipynb\" target=\"_parent\"><img src=\"https://colab.research.google.com/assets/colab-badge.svg\" alt=\"Open In Colab\"/></a>"
      ]
    },
    {
      "cell_type": "code",
      "metadata": {
        "colab": {
          "base_uri": "https://localhost:8080/"
        },
        "id": "sdWA6pBC2BHd",
        "outputId": "931cdee7-0901-42df-e83a-869e0aa2631c"
      },
      "source": [
        "def factorial(n):\n",
        "    start=1\n",
        "    while(n!=0):\n",
        "        start =start * n\n",
        "        n-=1 \n",
        "    return start\n",
        "\n",
        "result=[]\n",
        "A=[]\n",
        "num = int(input())\n",
        "for i in range(num):\n",
        "    a,b =map(int,input().split())\n",
        "    A.append([a,b])\n",
        "for j in A:\n",
        "    print(round(factorial(j[1])/(factorial(j[1]-j[0])*factorial(j[0]))))\n",
        "\n",
        "\n"
      ],
      "execution_count": 60,
      "outputs": [
        {
          "output_type": "stream",
          "name": "stdout",
          "text": [
            "3\n",
            "2 2\n",
            "1 5\n",
            "13 29\n",
            "1\n",
            "5\n",
            "67863915\n"
          ]
        }
      ]
    }
  ]
}