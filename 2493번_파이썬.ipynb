{
  "nbformat": 4,
  "nbformat_minor": 0,
  "metadata": {
    "colab": {
      "name": "2493번 파이썬.ipynb",
      "provenance": [],
      "authorship_tag": "ABX9TyME8kJtvHzp1NO8qKWCkgqU",
      "include_colab_link": true
    },
    "kernelspec": {
      "name": "python3",
      "display_name": "Python 3"
    },
    "language_info": {
      "name": "python"
    }
  },
  "cells": [
    {
      "cell_type": "markdown",
      "metadata": {
        "id": "view-in-github",
        "colab_type": "text"
      },
      "source": [
        "<a href=\"https://colab.research.google.com/github/rkaclfdl123/Baekjoon_Algorithm/blob/master/2493%EB%B2%88_%ED%8C%8C%EC%9D%B4%EC%8D%AC.ipynb\" target=\"_parent\"><img src=\"https://colab.research.google.com/assets/colab-badge.svg\" alt=\"Open In Colab\"/></a>"
      ]
    },
    {
      "cell_type": "code",
      "metadata": {
        "id": "T34w_91Exqob"
      },
      "source": [
        "n = int(input())\n",
        "arr = list(map(int, input().rstrip().split()))\n",
        "answer = [0 for _ in range(len(arr))]\n",
        "stack = []\n",
        "\n",
        "\n",
        "for i in range(len(arr)-1, -1, -1):\n",
        "    while stack and arr[stack[-1]] < arr[i]:\n",
        "        answer[stack.pop()] = i+1\n",
        "    stack.append(i)\n",
        "print(*answer)"
      ],
      "execution_count": null,
      "outputs": []
    }
  ]
}