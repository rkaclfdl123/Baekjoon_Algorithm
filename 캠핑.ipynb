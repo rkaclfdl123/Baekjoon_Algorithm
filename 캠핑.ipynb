{
  "nbformat": 4,
  "nbformat_minor": 0,
  "metadata": {
    "colab": {
      "name": "캠핑.ipynb",
      "provenance": [],
      "authorship_tag": "ABX9TyODPKfAZy9I6NfVv/E8XKrw",
      "include_colab_link": true
    },
    "kernelspec": {
      "name": "python3",
      "display_name": "Python 3"
    },
    "language_info": {
      "name": "python"
    }
  },
  "cells": [
    {
      "cell_type": "markdown",
      "metadata": {
        "id": "view-in-github",
        "colab_type": "text"
      },
      "source": [
        "<a href=\"https://colab.research.google.com/github/rkaclfdl123/Baekjoon_Algorithm/blob/master/%EC%BA%A0%ED%95%91.ipynb\" target=\"_parent\"><img src=\"https://colab.research.google.com/assets/colab-badge.svg\" alt=\"Open In Colab\"/></a>"
      ]
    },
    {
      "cell_type": "code",
      "metadata": {
        "colab": {
          "base_uri": "https://localhost:8080/"
        },
        "id": "YVGlgz75Xb7f",
        "outputId": "600b6fad-1c66-407b-de97-2bd414c54c36"
      },
      "source": [
        "while (1):\n",
        "  number=0\n",
        "  number+=1\n",
        "  result=0\n",
        "  L,P,V=map(int,input().split())\n",
        "  if L ==0 and P==0 and V==0:\n",
        "    break\n",
        "  count1=V // 8\n",
        "  count2= V%8\n",
        "  result+=count1 * L\n",
        "  if count2 >L:\n",
        "    count2=L\n",
        "  result+=count2 \n",
        "  print(\"Case {0}:  {1}\".format(number,result))\n",
        "\n"
      ],
      "execution_count": 4,
      "outputs": [
        {
          "name": "stdout",
          "output_type": "stream",
          "text": [
            "5 8 20\n",
            "Case 1: 14\n",
            "5 8 17\n",
            "Case 1: 11\n",
            "0 0 0\n"
          ]
        }
      ]
    }
  ]
}