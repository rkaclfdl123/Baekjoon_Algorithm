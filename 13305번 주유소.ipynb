{
  "nbformat": 4,
  "nbformat_minor": 0,
  "metadata": {
    "colab": {
      "name": "주유소.ipynb",
      "provenance": [],
      "authorship_tag": "ABX9TyO0LVTXq8L/FBKHlklaHAix",
      "include_colab_link": true
    },
    "kernelspec": {
      "name": "python3",
      "display_name": "Python 3"
    },
    "language_info": {
      "name": "python"
    }
  },
  "cells": [
    {
      "cell_type": "markdown",
      "metadata": {
        "id": "view-in-github",
        "colab_type": "text"
      },
      "source": [
        "<a href=\"https://colab.research.google.com/github/rkaclfdl123/Baekjoon_Algorithm/blob/master/13305%EB%B2%88%20%EC%A3%BC%EC%9C%A0%EC%86%8C.ipynb\" target=\"_parent\"><img src=\"https://colab.research.google.com/assets/colab-badge.svg\" alt=\"Open In Colab\"/></a>"
      ]
    },
    {
      "cell_type": "code",
      "metadata": {
        "id": "wThwtFh3RJRx",
        "colab": {
          "base_uri": "https://localhost:8080/"
        },
        "outputId": "850788e2-7c8b-4b65-c704-a05c32dc69d9"
      },
      "source": [
        "num = int(input())\n",
        "a=list(map(int,input().split()))\n",
        "b=list(map(int,input().split()))\n",
        "#a=2 3 1\n",
        "#b=5 2 4 1\n",
        "\n",
        "\n",
        "b2=b[0]\n",
        "for i in range(num-1):\n",
        "  if b2 > b[i]:\n",
        "    b2=b[i]\n",
        "  sum+=b2 *a[i]\n",
        "print(sum)"
      ],
      "execution_count": 2,
      "outputs": [
        {
          "output_type": "stream",
          "text": [
            "4\n",
            "2 3 1\n",
            "5 2 4 1\n"
          ],
          "name": "stdout"
        }
      ]
    },
    {
      "cell_type": "code",
      "metadata": {
        "colab": {
          "base_uri": "https://localhost:8080/"
        },
        "id": "EmiR-0sZ8aqU",
        "outputId": "6ae2a630-b05d-42d9-faf8-fb461d8bf0e0"
      },
      "source": [
        ""
      ],
      "execution_count": 6,
      "outputs": [
        {
          "output_type": "stream",
          "text": [
            "18\n"
          ],
          "name": "stdout"
        }
      ]
    }
  ]
}