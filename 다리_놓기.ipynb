{
  "nbformat": 4,
  "nbformat_minor": 0,
  "metadata": {
    "colab": {
      "name": "다리 놓기.ipynb",
      "provenance": [],
      "authorship_tag": "ABX9TyNZfZesYWck/UTumFqg/kEt",
      "include_colab_link": true
    },
    "kernelspec": {
      "name": "python3",
      "display_name": "Python 3"
    },
    "language_info": {
      "name": "python"
    }
  },
  "cells": [
    {
      "cell_type": "markdown",
      "metadata": {
        "id": "view-in-github",
        "colab_type": "text"
      },
      "source": [
        "<a href=\"https://colab.research.google.com/github/rkaclfdl123/Baekjoon_Algorithm/blob/master/%EB%8B%A4%EB%A6%AC_%EB%86%93%EA%B8%B0.ipynb\" target=\"_parent\"><img src=\"https://colab.research.google.com/assets/colab-badge.svg\" alt=\"Open In Colab\"/></a>"
      ]
    },
    {
      "cell_type": "code",
      "metadata": {
        "colab": {
          "base_uri": "https://localhost:8080/"
        },
        "id": "Tww8ZNuKr2lD",
        "outputId": "f7b6aa86-682e-40f7-b584-c0ecb17d6a60"
      },
      "source": [
        "\n",
        "def factorial(n):\n",
        "    num = 1\n",
        "    for i in range(1, n+1):\n",
        "        num *= i\n",
        "    return num\n",
        "\n",
        "\n",
        "num1 = int(input())\n",
        "\n",
        "for _ in range(num1):\n",
        "    n, m = map(int,1  input().split())\n",
        "    bridge = factorial(m) // (factorial(n) * factorial(m - n))\n",
        "    print(bridge)"
      ],
      "execution_count": 1,
      "outputs": [
        {
          "output_type": "stream",
          "text": [
            "3\n",
            "2 2\n",
            "1\n",
            "1 5\n",
            "5\n",
            "13 29\n",
            "67863915\n"
          ],
          "name": "stdout"
        }
      ]
    }
  ]
}