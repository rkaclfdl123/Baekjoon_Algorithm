{
  "nbformat": 4,
  "nbformat_minor": 0,
  "metadata": {
    "colab": {
      "name": "국회의원 선거.ipynb",
      "provenance": [],
      "authorship_tag": "ABX9TyPZlqW+9Ys3Ggo/QfgMlXwi",
      "include_colab_link": true
    },
    "kernelspec": {
      "name": "python3",
      "display_name": "Python 3"
    },
    "language_info": {
      "name": "python"
    }
  },
  "cells": [
    {
      "cell_type": "markdown",
      "metadata": {
        "id": "view-in-github",
        "colab_type": "text"
      },
      "source": [
        "<a href=\"https://colab.research.google.com/github/rkaclfdl123/Baekjoon_Algorithm/blob/master/%EA%B5%AD%ED%9A%8C%EC%9D%98%EC%9B%90_%EC%84%A0%EA%B1%B0.ipynb\" target=\"_parent\"><img src=\"https://colab.research.google.com/assets/colab-badge.svg\" alt=\"Open In Colab\"/></a>"
      ]
    },
    {
      "cell_type": "code",
      "metadata": {
        "colab": {
          "base_uri": "https://localhost:8080/"
        },
        "id": "yymG9Hth1dkY",
        "outputId": "c369d0ff-c59b-44f5-e5f0-edea59b34937"
      },
      "source": [
        "N = int(input())\n",
        "n_vote = []\n",
        "\n",
        "for i in range(N):\n",
        "    n_vote.append(int(input()))\n",
        "    \n",
        "cand = n_vote[1:len(n_vote)]\n",
        "dasom = n_vote[0]\n",
        "    \n",
        "if(N == 1):\n",
        "    print(0)\n",
        "\n",
        "else:\n",
        "    num = 0\n",
        "    cand = sorted(cand, reverse = True)\n",
        "    while(cand[0] >= dasom):\n",
        "        dasom += 1\n",
        "        cand[0] -= 1\n",
        "        num += 1\n",
        "        cand = sorted(cand, reverse = True)\n",
        "\n",
        "    print(num)\n",
        "    "
      ],
      "execution_count": 14,
      "outputs": [
        {
          "output_type": "stream",
          "name": "stdout",
          "text": [
            "3\n",
            "5\n",
            "7\n",
            "7\n",
            "2\n"
          ]
        }
      ]
    }
  ]
}