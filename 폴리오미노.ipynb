{
  "nbformat": 4,
  "nbformat_minor": 0,
  "metadata": {
    "colab": {
      "name": "폴리오미노.ipynb",
      "provenance": [],
      "authorship_tag": "ABX9TyObNKhe2q7lV+VZSD3QQfBj",
      "include_colab_link": true
    },
    "kernelspec": {
      "name": "python3",
      "display_name": "Python 3"
    },
    "language_info": {
      "name": "python"
    }
  },
  "cells": [
    {
      "cell_type": "markdown",
      "metadata": {
        "id": "view-in-github",
        "colab_type": "text"
      },
      "source": [
        "<a href=\"https://colab.research.google.com/github/rkaclfdl123/Baekjoon_Algorithm/blob/master/%ED%8F%B4%EB%A6%AC%EC%98%A4%EB%AF%B8%EB%85%B8.ipynb\" target=\"_parent\"><img src=\"https://colab.research.google.com/assets/colab-badge.svg\" alt=\"Open In Colab\"/></a>"
      ]
    },
    {
      "cell_type": "code",
      "metadata": {
        "colab": {
          "base_uri": "https://localhost:8080/"
        },
        "id": "9LXQL-C27fZm",
        "outputId": "194a9cad-8dc0-4f1f-9c08-8a4af0274585"
      },
      "source": [
        "#Greedy\n",
        "polio=input()\n",
        "A=polio.replace(\"XXXX\",\"AAAA\")\n",
        "A=A.replace(\"XX\",\"BB\")\n",
        "if \"X\" in A:\n",
        "    print(-1)\n",
        "print(A)\n",
        "    "
      ],
      "execution_count": 27,
      "outputs": [
        {
          "output_type": "stream",
          "name": "stdout",
          "text": [
            "AAAABB\n"
          ]
        }
      ]
    }
  ]
}