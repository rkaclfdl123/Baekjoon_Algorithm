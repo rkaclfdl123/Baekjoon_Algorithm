{
  "nbformat": 4,
  "nbformat_minor": 0,
  "metadata": {
    "colab": {
      "name": "2891번 카약과 강풍.ipynb",
      "provenance": [],
      "authorship_tag": "ABX9TyNKO9jbSAkQyhvGSARE4lUD",
      "include_colab_link": true
    },
    "kernelspec": {
      "name": "python3",
      "display_name": "Python 3"
    },
    "language_info": {
      "name": "python"
    }
  },
  "cells": [
    {
      "cell_type": "markdown",
      "metadata": {
        "id": "view-in-github",
        "colab_type": "text"
      },
      "source": [
        "<a href=\"https://colab.research.google.com/github/rkaclfdl123/Baekjoon_Algorithm/blob/master/2891%EB%B2%88_%EC%B9%B4%EC%95%BD%EA%B3%BC_%EA%B0%95%ED%92%8D.ipynb\" target=\"_parent\"><img src=\"https://colab.research.google.com/assets/colab-badge.svg\" alt=\"Open In Colab\"/></a>"
      ]
    },
    {
      "cell_type": "code",
      "metadata": {
        "colab": {
          "base_uri": "https://localhost:8080/"
        },
        "id": "0tVYuXN3tqCy",
        "outputId": "844d3f59-e8cb-48e2-927e-ecdf3df8bfa0"
      },
      "source": [
        "N,S,R=map(int,input().split())\n",
        "#N 팀의 수\n",
        "#S 카악이 손상된 팀의 수\n",
        "#R 카악을 하나 더 가져온 팀의 수\n"
      ],
      "execution_count": 1,
      "outputs": [
        {
          "name": "stdout",
          "output_type": "stream",
          "text": [
            "5 2 1\n"
          ]
        }
      ]
    },
    {
      "cell_type": "code",
      "metadata": {
        "colab": {
          "base_uri": "https://localhost:8080/"
        },
        "id": "1WRnFh4vuzHj",
        "outputId": "adba797f-899b-421f-b2cc-5a868bf52665"
      },
      "source": [
        "x_team=list(map(int,input().split()))\n",
        "# 카악이 손상된 팀의 번호"
      ],
      "execution_count": 16,
      "outputs": [
        {
          "name": "stdout",
          "output_type": "stream",
          "text": [
            "2 4\n"
          ]
        }
      ]
    },
    {
      "cell_type": "code",
      "metadata": {
        "colab": {
          "base_uri": "https://localhost:8080/"
        },
        "id": "oCsH6rgauzM8",
        "outputId": "5bab8553-9bfe-4781-dc3e-a471e452172a"
      },
      "source": [
        "on_team=list(map(int,input().split()))\n",
        "#on_team 카악을 하나 더 가져온 팀의 번호"
      ],
      "execution_count": 4,
      "outputs": [
        {
          "name": "stdout",
          "output_type": "stream",
          "text": [
            "3\n"
          ]
        }
      ]
    },
    {
      "cell_type": "code",
      "metadata": {
        "id": "QWR4_MzjuzRG"
      },
      "source": [
        "\n",
        "for i in on_team:\n",
        "    if i in x_team:\n",
        "        x_team.remove(i)\n",
        "    elif i-1 in x_team:\n",
        "        x_team.remove(i-1)\n",
        "    elif i+1 in x_team:\n",
        "        x_team.remove(i+1)\n",
        "\n",
        "print(len(x_team))\n",
        "     \n"
      ],
      "execution_count": null,
      "outputs": []
    }
  ]
}