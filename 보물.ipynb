{
  "nbformat": 4,
  "nbformat_minor": 0,
  "metadata": {
    "colab": {
      "name": "보물.ipynb",
      "provenance": [],
      "authorship_tag": "ABX9TyMyJ1lwxins12r5KUdvve7n",
      "include_colab_link": true
    },
    "kernelspec": {
      "name": "python3",
      "display_name": "Python 3"
    },
    "language_info": {
      "name": "python"
    }
  },
  "cells": [
    {
      "cell_type": "markdown",
      "metadata": {
        "id": "view-in-github",
        "colab_type": "text"
      },
      "source": [
        "<a href=\"https://colab.research.google.com/github/rkaclfdl123/Baekjoon_Algorithm/blob/master/%EB%B3%B4%EB%AC%BC.ipynb\" target=\"_parent\"><img src=\"https://colab.research.google.com/assets/colab-badge.svg\" alt=\"Open In Colab\"/></a>"
      ]
    },
    {
      "cell_type": "code",
      "metadata": {
        "colab": {
          "base_uri": "https://localhost:8080/"
        },
        "id": "BiAw8UeD4EWe",
        "outputId": "f673b781-ce88-4f9d-e32b-ce59ccbd03a2"
      },
      "source": [
        "num=input()\n",
        "result=0\n",
        "A_list=list(map(int,input().split()))\n",
        "B_list=list(map(int,input().split()))\n",
        "max_A=sorted(A_list)\n",
        "max_B=sorted(B_list,reverse=True)\n",
        "for i in range(len(max_A)):\n",
        "    result+=max_A[i]*max_B[i]\n",
        "print(result)"
      ],
      "execution_count": 1,
      "outputs": [
        {
          "output_type": "stream",
          "text": [
            "5\n",
            "1 1 1 6 0\n",
            "2 7 8 3 1\n",
            "18\n"
          ],
          "name": "stdout"
        }
      ]
    }
  ]
}